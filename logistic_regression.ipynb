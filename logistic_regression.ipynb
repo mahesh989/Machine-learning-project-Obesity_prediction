{
 "cells": [
  {
   "cell_type": "code",
   "execution_count": 21,
   "metadata": {},
   "outputs": [
    {
     "name": "stdout",
     "output_type": "stream",
     "text": [
      "Logistic Regression model accuracy: 85.01%\n",
      "Classification Report:\n",
      "                      precision    recall  f1-score   support\n",
      "\n",
      "insufficient_weight       0.87      0.95      0.91        87\n",
      "      normal_weight       0.87      0.65      0.75        95\n",
      "     obesity_type_i       0.93      0.88      0.90       105\n",
      "    obesity_type_ii       0.97      0.99      0.98        95\n",
      "   obesity_type_iii       0.98      1.00      0.99        91\n",
      " overweight_level_i       0.65      0.65      0.65        80\n",
      "overweight_level_ii       0.64      0.80      0.71        74\n",
      "\n",
      "           accuracy                           0.85       627\n",
      "          macro avg       0.85      0.85      0.84       627\n",
      "       weighted avg       0.86      0.85      0.85       627\n",
      "\n"
     ]
    }
   ],
   "source": [
    "# Import necessary libraries\n",
    "import pandas as pd\n",
    "from sklearn.model_selection import train_test_split\n",
    "from sklearn.preprocessing import OneHotEncoder, StandardScaler\n",
    "from sklearn.compose import ColumnTransformer\n",
    "from sklearn.linear_model import LogisticRegression\n",
    "from sklearn.pipeline import Pipeline\n",
    "from sklearn.metrics import accuracy_score, classification_report\n",
    "\n",
    "#Load the dataset\n",
    "df = pd.read_csv('./preprocessed_obesity.csv')\n",
    "\n",
    "#Automatically define categorical and numeric columns based on data types, excluding the target column\n",
    "target_column = 'nobeyesdad'\n",
    "categorical_columns = df.select_dtypes(include=['object']).columns.tolist()\n",
    "numeric_columns = df.select_dtypes(include=['int64', 'float64']).columns.tolist()\n",
    "\n",
    "# Remove the target column from the categorical list (because it's also an object type)\n",
    "categorical_columns.remove(target_column)\n",
    "\n",
    "#Define features and target variable\n",
    "X = df.drop(target_column, axis=1)\n",
    "y = df[target_column]\n",
    "\n",
    "#Create a column transformer for One-Hot Encoding of categorical columns and scaling of numeric columns\n",
    "preprocessor = ColumnTransformer(\n",
    "    transformers=[\n",
    "        ('cat', OneHotEncoder(), categorical_columns),  # One-hot encoding for categorical columns\n",
    "        ('num', StandardScaler(), numeric_columns)      # Standard scaling for numeric columns\n",
    "    ])\n",
    "\n",
    "#Create a pipeline with preprocessor and Logistic Regression with more iterations\n",
    "log_reg_pipeline = Pipeline(steps=[('preprocessor', preprocessor),\n",
    "                                   ('classifier', LogisticRegression(max_iter=2000))])  # Increased max_iter\n",
    "\n",
    "# Step 6: Split the data into training and testing sets\n",
    "X_train, X_test, y_train, y_test = train_test_split(X, y, test_size=0.3, random_state=42)\n",
    "\n",
    "#Train the Logistic Regression model\n",
    "log_reg_pipeline.fit(X_train, y_train)\n",
    "\n",
    "#Make predictions\n",
    "y_pred_log_reg = log_reg_pipeline.predict(X_test)\n",
    "\n",
    "#Evaluate the model\n",
    "log_reg_acc = accuracy_score(y_test, y_pred_log_reg)\n",
    "log_reg_report = classification_report(y_test, y_pred_log_reg)\n",
    "\n",
    "# Output accuracy and classification report\n",
    "print(f\"Logistic Regression model accuracy: {log_reg_acc * 100:.2f}%\")\n",
    "print(\"Classification Report:\\n\", log_reg_report)\n"
   ]
  },
  {
   "cell_type": "code",
   "execution_count": null,
   "metadata": {},
   "outputs": [],
   "source": []
  }
 ],
 "metadata": {
  "kernelspec": {
   "display_name": "Python 3",
   "language": "python",
   "name": "python3"
  },
  "language_info": {
   "codemirror_mode": {
    "name": "ipython",
    "version": 3
   },
   "file_extension": ".py",
   "mimetype": "text/x-python",
   "name": "python",
   "nbconvert_exporter": "python",
   "pygments_lexer": "ipython3",
   "version": "3.12.4"
  }
 },
 "nbformat": 4,
 "nbformat_minor": 2
}
